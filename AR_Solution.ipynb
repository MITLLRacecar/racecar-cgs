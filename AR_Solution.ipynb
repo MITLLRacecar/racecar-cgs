{
 "cells": [
  {
   "cell_type": "code",
   "execution_count": 1,
   "id": "df87f9c8",
   "metadata": {},
   "outputs": [],
   "source": [
    "isSimulation = True"
   ]
  },
  {
   "cell_type": "code",
   "execution_count": 2,
   "id": "bd3c6f88",
   "metadata": {},
   "outputs": [],
   "source": [
    "# Import Python libraries\n",
    "import math\n",
    "import copy\n",
    "import cv2 as cv\n",
    "import numpy as np\n",
    "import matplotlib.pyplot as plt\n",
    "import ipywidgets as widgets\n",
    "import statistics\n",
    "from nptyping import NDArray\n",
    "from typing import Any, Tuple, List, Optional\n",
    "from enum import Enum\n",
    "\n",
    "# Import Racecar library\n",
    "import sys\n",
    "sys.path.append(\"../../library\")\n",
    "import racecar_core\n",
    "import racecar_utils as rc_utils"
   ]
  },
  {
   "cell_type": "code",
   "execution_count": 3,
   "id": "5bb4ed6a",
   "metadata": {},
   "outputs": [],
   "source": [
    "potential_colors = [\n",
    "    ((10, 50, 50), (20, 255, 255),'ORANGE'),\n",
    "    ((100, 150, 50), (110, 255, 255),'BLUE'),\n",
    "    ((40, 50, 50), (80, 255, 255),'GREEN'),  # The HSV range for the color green\n",
    "    ((170, 50, 50), (10, 255, 255),'RED'),\n",
    "    ((110,59,50), (165,255,255),'PURPLE')\n",
    "]"
   ]
  },
  {
   "cell_type": "code",
   "execution_count": 4,
   "id": "29443c72",
   "metadata": {},
   "outputs": [],
   "source": [
    "class Orientation(Enum):\n",
    "    UP = 0\n",
    "    LEFT = 1\n",
    "    DOWN = 2\n",
    "    RIGHT = 3"
   ]
  },
  {
   "cell_type": "code",
   "execution_count": 5,
   "id": "c9ac0e01",
   "metadata": {},
   "outputs": [],
   "source": [
    "class ARMarker:\n",
    "    \n",
    "    def __init__(self, marker_id, marker_corners):\n",
    "        # TODO: Copy implementation from your previous ARMarker class\n",
    "        self.__id = marker_id\n",
    "        self.__corners = marker_corners\n",
    "              \n",
    "        if self.__corners[0][1] > self.__corners[2][1]:\n",
    "            if self.__corners[0][0] > self.__corners[2][0]:\n",
    "                self.__orientation = Orientation.DOWN\n",
    "            else:\n",
    "                self.__orientation = Orientation.RIGHT\n",
    "        else:\n",
    "            if self.__corners[0][0] > self.__corners[2][0]:\n",
    "                self.__orientation = Orientation.LEFT\n",
    "            else:\n",
    "                self.__orientation = Orientation.UP\n",
    "                \n",
    "        # Create fields to store the detected color and the area of that color's contour\n",
    "        self.__color = \"not detected\"\n",
    "        self.__color_area = 0\n",
    "        \n",
    "    def detect_colors(self, image, potential_colors):\n",
    "        # TODO: Copy the code we wrote previously to crop the image to the area around the ARMarker\n",
    "        marker_top, marker_left = self.__corners[self.__orientation.value]\n",
    "        marker_bottom, marker_right = self.__corners[(self.__orientation.value + 2) % 4]\n",
    "        half_marker_height = (marker_bottom - marker_top) // 2\n",
    "        half_marker_width = (marker_right - marker_left) // 2\n",
    "        crop_top_left = (\n",
    "            max(0, marker_top - half_marker_height),\n",
    "            max(0, marker_left - half_marker_width),\n",
    "        )\n",
    "        crop_bottom_right = (\n",
    "            min(image.shape[0], marker_bottom + half_marker_height) + 1,\n",
    "            min(image.shape[1], marker_right + half_marker_width) + 1,\n",
    "        )\n",
    "        cropped_image = rc_utils.crop(image, crop_top_left, crop_bottom_right)\n",
    "        \n",
    "        # TODO: Copy the code we wrote previously to search for the colors in potential_colors\n",
    "        for (hsv_lower, hsv_upper, color_name) in potential_colors:\n",
    "            contours = rc_utils.find_contours(cropped_image, hsv_lower, hsv_upper) \n",
    "            largest_contour = rc_utils.get_largest_contour(contours)\n",
    "            if largest_contour is not None:\n",
    "                contour_area = rc_utils.get_contour_area(largest_contour)\n",
    "                if contour_area > self.__color_area:\n",
    "                    self.__color_area = contour_area\n",
    "                    self.__color = color_name\n",
    "            \n",
    "    def get_id(self):\n",
    "        # TODO: Copy implementation from your previous ARMarker class\n",
    "        return self.__id\n",
    "    \n",
    "    \n",
    "    def get_corners(self):\n",
    "        # TODO: Copy implementation from your previous ARMarker class\n",
    "        return self.__corners\n",
    "    \n",
    "    def get_orientation(self):\n",
    "        # TODO: Copy implementation from your previous ARMarker class\n",
    "        return self.__orientation\n",
    "    \n",
    "    def get_color(self):\n",
    "        # TODO: Return the detected color\n",
    "        return self.__color\n",
    "    \n",
    "    def __str__(self):\n",
    "        # TODO: Update __str__ to include the ID, corners, and orientation, and color\n",
    "        return f\"ID: {self.__id}\\nCorners: {self.__corners}\\nOrientation: {self.__orientation}\\nColor: {self.__color}\""
   ]
  },
  {
   "cell_type": "code",
   "execution_count": 6,
   "id": "34fea1a2",
   "metadata": {},
   "outputs": [],
   "source": [
    "def get_ar_markers(image):\n",
    "    # Gather raw AR marker data from ArUco\n",
    "    aruco_data = cv.aruco.detectMarkers(\n",
    "        image,\n",
    "        cv.aruco.Dictionary_get(cv.aruco.DICT_6X6_250),\n",
    "        parameters=cv.aruco.DetectorParameters_create()\n",
    "    )\n",
    "    \n",
    "    # A list of ARMarker objects representing the AR markers found in aruco_data\n",
    "    markers = []\n",
    "        \n",
    "    for i in range(len(aruco_data[0])):\n",
    "        # TODO: For each marker in aruco_data, extract the corners and id, change the corners into (row, col) format,\n",
    "        # and create an ARMarker object with this data (see section 3.1)\n",
    "        corners = aruco_data[0][i][0].astype(np.int32)\n",
    "        for j in range(len(corners)):\n",
    "            col = corners[j][0]\n",
    "            corners[j][0] = corners[j][1]\n",
    "            corners[j][1] = col\n",
    "        marker_id = aruco_data[1][i][0]\n",
    "        \n",
    "        # TODO: Add the new marker to markers\n",
    "        markers.append(ARMarker(marker_id, corners))\n",
    "        markers[-1].detect_colors(image, potential_colors)\n",
    "        \n",
    "    return markers"
   ]
  },
  {
   "cell_type": "code",
   "execution_count": 7,
   "id": "a21f62ab",
   "metadata": {},
   "outputs": [],
   "source": [
    "def ar_info(marker: ARMarker):\n",
    "    if marker.get_color() == 'PURPLE' or marker.get_color() == 'ORANGE':\n",
    "        return f'{marker.get_color()} Lane Following'\n",
    "    if marker.get_id() == 0:\n",
    "        return 'Turn Left'\n",
    "    if marker.get_id() == 1:\n",
    "        return 'Turn Right'\n",
    "    if marker.get_id() == 199:\n",
    "        if marker.get_orientation() == Orientation.LEFT:\n",
    "            return 'Turn Left'\n",
    "        if marker.get_orientation() == Orientation.RIGHT:\n",
    "            return 'Turn Right'\n",
    "    if marker.get_id() == 2:\n",
    "        if marker.get_color() == 'not detected':\n",
    "            return 'Slalom'\n",
    "        return f'Follow {marker.get_color()} line'"
   ]
  },
  {
   "cell_type": "code",
   "execution_count": 8,
   "id": "d93a150b",
   "metadata": {},
   "outputs": [
    {
     "name": "stdout",
     "output_type": "stream",
     "text": [
      "\u001b[95m>> Racecar created with the following options:\n",
      "    Simulation (-s): [True]\n",
      "    Headless (-h): [False]\n",
      "    Initialize with display (-d): [False]\u001b[00m\n"
     ]
    }
   ],
   "source": [
    "rc = racecar_core.create_racecar(True)"
   ]
  },
  {
   "cell_type": "markdown",
   "id": "52414c39",
   "metadata": {},
   "source": [
    " <h1>Τρέξτε το παρακάτω κελί κάθε φορά που βλέπετε ένα AR Marker για να δείτε τι σας επιστρέφει</h1>"
   ]
  },
  {
   "cell_type": "code",
   "execution_count": 9,
   "id": "1337e520",
   "metadata": {},
   "outputs": [
    {
     "name": "stdout",
     "output_type": "stream",
     "text": [
      "['Turn Left', 'Turn Left']\n"
     ]
    }
   ],
   "source": [
    "def get_markers_info():\n",
    "    image = rc.camera.get_color_image_async()\n",
    "\n",
    "    markers = get_ar_markers(image)\n",
    "    msgs = []\n",
    "    for i in markers:\n",
    "        msgs.append(ar_info(i))\n",
    "    return msgs\n",
    "\n",
    "print(get_markers_info())\n",
    "# image = rc.camera.get_color_image_async()\n",
    "\n",
    "# markers = get_ar_markers(image)\n",
    "# for i in markers:\n",
    "#     print(i)\n",
    "#     print(ar_info(i))\n"
   ]
  },
  {
   "cell_type": "code",
   "execution_count": null,
   "id": "e08ea6c5",
   "metadata": {},
   "outputs": [],
   "source": [
    "\n",
    "\n",
    "\n",
    "for i in markers:\n",
    "    print(ar_info(i))"
   ]
  },
  {
   "cell_type": "code",
   "execution_count": null,
   "id": "f0a216c4",
   "metadata": {},
   "outputs": [],
   "source": []
  },
  {
   "cell_type": "code",
   "execution_count": null,
   "id": "16b730ca",
   "metadata": {},
   "outputs": [],
   "source": []
  }
 ],
 "metadata": {
  "kernelspec": {
   "display_name": "Python 3 (ipykernel)",
   "language": "python",
   "name": "python3"
  },
  "language_info": {
   "codemirror_mode": {
    "name": "ipython",
    "version": 3
   },
   "file_extension": ".py",
   "mimetype": "text/x-python",
   "name": "python",
   "nbconvert_exporter": "python",
   "pygments_lexer": "ipython3",
   "version": "3.10.4"
  }
 },
 "nbformat": 4,
 "nbformat_minor": 5
}
